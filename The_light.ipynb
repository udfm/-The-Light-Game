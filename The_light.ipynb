{
  "cells": [
    {
      "cell_type": "markdown",
      "metadata": {
        "id": "view-in-github",
        "colab_type": "text"
      },
      "source": [
        "<a href=\"https://colab.research.google.com/github/udfm/-The-Light-Game/blob/main/The_light.ipynb\" target=\"_parent\"><img src=\"https://colab.research.google.com/assets/colab-badge.svg\" alt=\"Open In Colab\"/></a>"
      ]
    },
    {
      "cell_type": "code",
      "execution_count": null,
      "metadata": {
        "colab": {
          "base_uri": "https://localhost:8080/"
        },
        "collapsed": true,
        "id": "0dQvWXmKB2um",
        "outputId": "1765bd42-f113-411a-a790-c04945761937"
      },
      "outputs": [
        {
          "metadata": {
            "tags": null
          },
          "name": "stdout",
          "output_type": "stream",
          "text": [
            "\n",
            "▄▄▄█████▓ ██░ ██ ▓█████     ██▓     ██▓  ▄████  ██░ ██ ▄▄▄█████▓\n",
            "▓  ██▒ ▓▒▓██░ ██▒▓█   ▀    ▓██▒    ▓██▒ ██▒ ▀█▒▓██░ ██▒▓  ██▒ ▓▒\n",
            "▒ ▓██░ ▒░▒██▀▀██░▒███      ▒██░    ▒██▒▒██░▄▄▄░▒██▀▀██░▒ ▓██░ ▒░\n",
            "░ ▓██▓ ░ ░▓█ ░██ ▒▓█  ▄    ▒██░    ░██░░▓█  ██▓░▓█ ░██ ░ ▓██▓ ░\n",
            "▒██▒ ░ ░▓█▒░██▓░▒████▒   ░██████▒░██░░▒▓███▀▒░▓█▒░██▓  ▒██▒ ░\n",
            "▒ ░░    ▒ ░░▒░▒░░ ▒░ ░   ░ ▒░▓  ░░▓   ░▒   ▒  ▒ ░░▒░▒  ▒ ░░\n",
            "  ░     ▒ ░▒░ ░ ░ ░  ░   ░ ░ ▒  ░ ▒ ░  ░   ░  ▒ ░▒░ ░    ░\n",
            "░       ░  ░░ ░   ░        ░ ░    ▒ ░░ ░   ░  ░  ░░ ░  ░\n",
            "░  ░  ░   ░  ░       ░  ░ ░        ░  ░  ░  ░  ░  ░░ ░  ░\n",
            "You wake up in a dimly lit room cuffed to a blood-stained hospital bed.\n",
            "1. Check your pockets with your free hand...\n",
            "2. Cry for help...\n"
          ]
        }
      ],
      "source": [
        "# @title\n",
        "import random\n",
        "\n",
        "\n",
        "print(\"\\n▄▄▄█████▓ ██░ ██ ▓█████     ██▓     ██▓  ▄████  ██░ ██ ▄▄▄█████▓\\n▓  ██▒ ▓▒▓██░ ██▒▓█   ▀    ▓██▒    ▓██▒ ██▒ ▀█▒▓██░ ██▒▓  ██▒ ▓▒\\n▒ ▓██░ ▒░▒██▀▀██░▒███      ▒██░    ▒██▒▒██░▄▄▄░▒██▀▀██░▒ ▓██░ ▒░\\n░ ▓██▓ ░ ░▓█ ░██ ▒▓█  ▄    ▒██░    ░██░░▓█  ██▓░▓█ ░██ ░ ▓██▓ ░\\n▒██▒ ░ ░▓█▒░██▓░▒████▒   ░██████▒░██░░▒▓███▀▒░▓█▒░██▓  ▒██▒ ░\\n▒ ░░    ▒ ░░▒░▒░░ ▒░ ░   ░ ▒░▓  ░░▓   ░▒   ▒  ▒ ░░▒░▒  ▒ ░░\\n  ░     ▒ ░▒░ ░ ░ ░  ░   ░ ░ ▒  ░ ▒ ░  ░   ░  ▒ ░▒░ ░    ░\\n░       ░  ░░ ░   ░        ░ ░    ▒ ░░ ░   ░  ░  ░░ ░  ░\\n░  ░  ░   ░  ░       ░  ░ ░        ░  ░  ░  ░  ░  ░░ ░  ░\")\n",
        "\n",
        "# Define the game states and responses\n",
        "game_states = {\n",
        "    'start': {\n",
        "        'text': 'You wake up in a dimly lit room cuffed to a blood-stained hospital bed.',\n",
        "        'options': [\n",
        "            {'text': 'Check your pockets with your free hand...', 'next_state': 'cuffs'},\n",
        "            {'text': 'Cry for help...', 'next_state': 'hide'}\n",
        "        ]\n",
        "    },\n",
        "    'cuffs': {\n",
        "        'text': 'You find a paperclip and a penny in your pocket from school and you pick the lock on the hand cuff. You look around and see a door three cabinets and a sink...',\n",
        "        'options': [\n",
        "            {'text': 'Try the door.', 'next_state': 'door_locked'},\n",
        "            {'text': 'Check the cabinets.', 'next_state': 'check_cabinets'}\n",
        "        ]\n",
        "    },\n",
        "    'door_locked': {\n",
        "        'text': 'The door is locked.',\n",
        "        'options': [\n",
        "            {'text': 'Try to open the door.', 'next_state': 'try_open'},\n",
        "            {'text': 'Check the cabinets.', 'next_state': 'check_cabinets'}\n",
        "        ]\n",
        "    },\n",
        "    'try_open': {\n",
        "        'text': 'You struggle to open the door, but it remains closed.',\n",
        "        'options': [\n",
        "            {'text': 'Keep trying.', 'next_state': 'try_open'},\n",
        "            {'text': 'Accept defeat and hide.', 'next_state': 'hide'}\n",
        "        ]\n",
        "    },\n",
        "    'check_cabinets': {\n",
        "        'text': 'You find a key...',\n",
        "        'options': [\n",
        "            {'text': 'Use the key.', 'next_state': 'follow_passage'},\n",
        "            {'text': 'Stay in the room.', 'next_state': 'stay_room'}\n",
        "        ]\n",
        "    },\n",
        "    'stay_room': {\n",
        "        'text': 'You wonder why you\\'re still here...',\n",
        "      'options': [\n",
        "          {'text': 'Get out.', 'next_state': 'check_cabinets'},\n",
        "          {'text': 'Cry for help.', 'next_state': 'hide'}\n",
        "      ]\n",
        "    },\n",
        "    'follow_passage': {\n",
        "        'text': 'You unlock the door and you see endless darkness, but then a light shines in the corner of your eye...',\n",
        "        'options': [\n",
        "            {'text': 'Approach the light.', 'next_state': 'approach_light'},\n",
        "            {'text': 'Turn back.', 'next_state': 'turn_back'}\n",
        "        ]\n",
        "    },\n",
        "    'approach_light': {\n",
        "        'text': 'The light reveals a path to freedom. You walk out into the night.',\n",
        "        'options': []\n",
        "    },\n",
        "    'turn_back': {\n",
        "        'text': 'You turn back and return to the room...',\n",
        "        'options': [\n",
        "            {'text': 'There is nothing here...', 'next_state': 'symbols'},\n",
        "            {'text': 'Hide in a corner.', 'next_state': 'hide'}\n",
        "        ]\n",
        "    },\n",
        "    'hide': {\n",
        "        'text': 'You cry for help.',\n",
        "        'options': [\n",
        "            {'text': 'Wait patiently.', 'next_state': 'wait_patience'},\n",
        "            {'text': 'Cry for help.', 'next_state': 'cry_for_help'}\n",
        "        ]\n",
        "    },\n",
        "    'wait_patience': {\n",
        "        'text': 'Time passes, and nothing happens.',\n",
        "        'options': [\n",
        "            {'text': 'Stay hidden.', 'next_state': 'hide'},\n",
        "            {'text': 'Get up.', 'next_state': ''}\n",
        "        ]\n",
        "    },\n",
        "    'cry_for_help': {\n",
        "        'text': 'Suddenly, the locked door opens and a man appears...',\n",
        "        'options': [\n",
        "            {'text': 'It\\'s over. There is nothing you can do...', 'next_state': 'bad_ending'},\n",
        "            {'text': 'Don\\'t resist. You know it\\'s over...', 'next_state': 'bad_ending'}\n",
        "        ]\n",
        "    },\n",
        "    'bad_ending': {\n",
        "        'text': 'The man: Don\\'t cry. We are just getting started. I will be the last thing you will ever see.',\n",
        "        'options': []\n",
        "    }\n",
        "}\n",
        "\n",
        "def play_game():\n",
        "    current_state = 'start'\n",
        "    while True:\n",
        "        state = game_states[current_state]\n",
        "        print(state['text'])\n",
        "\n",
        "        if not state['options']:\n",
        "            print(\"Game Over!\")\n",
        "            break\n",
        "\n",
        "        for i, option in enumerate(state['options'], 1):\n",
        "            print(f\"{i}. {option['text']}\")\n",
        "\n",
        "        choice = input(\"Choose an option: \")\n",
        "        try:\n",
        "            next_state_index = int(choice) - 1\n",
        "            if next_state_index < len(state['options']):\n",
        "                next_state = state['options'][next_state_index]['next_state']\n",
        "                current_state = next_state\n",
        "            else:\n",
        "                print(\"Invalid choice. Please try again.\")\n",
        "        except ValueError:\n",
        "            print(\"Please enter a valid number.\")\n",
        "\n",
        "if __name__ == \"__main__\":\n",
        "    play_game()"
      ]
    },
    {
      "cell_type": "code",
      "execution_count": null,
      "metadata": {
        "id": "QbXbnfS7lK9E"
      },
      "outputs": [],
      "source": []
    },
    {
      "cell_type": "code",
      "execution_count": null,
      "metadata": {
        "id": "6l2-2tG6lLsu"
      },
      "outputs": [],
      "source": []
    }
  ],
  "metadata": {
    "colab": {
      "provenance": [],
      "authorship_tag": "ABX9TyMJoFeJSc4W5lSGffhKNpTP",
      "include_colab_link": true
    },
    "kernelspec": {
      "display_name": "Python 3",
      "name": "python3"
    },
    "language_info": {
      "name": "python"
    }
  },
  "nbformat": 4,
  "nbformat_minor": 0
}